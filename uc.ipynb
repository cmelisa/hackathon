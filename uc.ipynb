{
 "cells": [
  {
   "cell_type": "code",
   "execution_count": 1,
   "id": "43110357",
   "metadata": {},
   "outputs": [
    {
     "name": "stdout",
     "output_type": "stream",
     "text": [
      "           TIME_STAMP           SERVER_NAME   DOWNLOAD   UPLOAD\n",
      "0 2024-03-05 18:25:00  10.0.901.xx Server 1  11927.017  424.700\n",
      "1 2024-03-05 18:20:00  10.0.901.xx Server 1  19703.467  525.575\n",
      "2 2024-03-05 18:15:00  10.0.901.xx Server 1  26349.663  631.144\n",
      "3 2024-03-05 18:10:00  10.0.901.xx Server 1  26068.494  623.673\n",
      "4 2024-03-05 18:05:00  10.0.901.xx Server 1  25814.357  620.701\n",
      "          DOWNLOAD       UPLOAD  TOTAL_TRAFFIC\n",
      "HOUR                                          \n",
      "23    5.356470e+07  1370978.170   5.493567e+07\n",
      "22    5.344110e+07  1404893.513   5.484599e+07\n",
      "21    4.897507e+07  1306652.690   5.028172e+07\n",
      "20    4.544316e+07  1193987.851   4.663714e+07\n",
      "0     4.154549e+07  1043059.933   4.258855e+07\n",
      "19    4.127243e+07  1052998.301   4.232543e+07\n",
      "18    3.668845e+07   933744.037   3.762220e+07\n",
      "17    3.411340e+07   860910.286   3.497431e+07\n",
      "12    3.017852e+07   759837.464   3.093835e+07\n",
      "13    2.997663e+07   763964.357   3.074059e+07\n",
      "15    2.932899e+07   745940.895   3.007493e+07\n",
      "16    2.908875e+07   731738.959   2.982049e+07\n",
      "11    2.890056e+07   713526.316   2.961409e+07\n",
      "1     2.889450e+07   715323.003   2.960982e+07\n",
      "14    2.885453e+07   737955.816   2.959249e+07\n",
      "10    2.570135e+07   619115.719   2.632047e+07\n",
      "9     2.127327e+07   491732.651   2.176501e+07\n",
      "2     1.562817e+07   389140.519   1.601731e+07\n",
      "8     1.557258e+07   352747.881   1.592532e+07\n",
      "7     1.226626e+07   286817.714   1.255308e+07\n",
      "3     8.469308e+06   213083.847   8.682392e+06\n",
      "6     6.451212e+06   156990.080   6.608202e+06\n",
      "4     5.119269e+06   129614.227   5.248883e+06\n",
      "5     4.216407e+06   106052.902   4.322460e+06\n"
     ]
    }
   ],
   "source": [
    "import pandas as pd\n",
    "\n",
    "# Excel dosyasının yüklenmesi\n",
    "file_path = \"C:/Users/melisa/Desktop/hackathon/dataset.xlsx\"\n",
    "xls = pd.ExcelFile(file_path)\n",
    "\n",
    "# Sayfa isimlerinin görüntülenmesi\n",
    "sheet_names = xls.sheet_names\n",
    "\n",
    "# İlk sayfadaki verilerin yüklenmesi\n",
    "df = pd.read_excel(file_path, sheet_name='Sheet1')\n",
    "\n",
    "# Verilerin ilk birkaç satırının görüntülenmesi\n",
    "print(df.head())\n",
    "\n",
    "# TIME_STAMP sütununun datetime formatına dönüştürülmesi\n",
    "df['TIME_STAMP'] = pd.to_datetime(df['TIME_STAMP'])\n",
    "\n",
    "# TIME_STAMP sütunundan saat bilgisinin çıkarılması\n",
    "df['HOUR'] = df['TIME_STAMP'].dt.hour\n",
    "\n",
    "# Saat bazında gruplanarak DOWNLOAD ve UPLOAD toplamlarının hesaplanması\n",
    "hourly_traffic = df.groupby('HOUR')[['DOWNLOAD', 'UPLOAD']].sum()\n",
    "\n",
    "# DOWNLOAD ve UPLOAD toplamlarının hesaplanması\n",
    "hourly_traffic['TOTAL_TRAFFIC'] = hourly_traffic['DOWNLOAD'] + hourly_traffic['UPLOAD']\n",
    "\n",
    "# Trafik verilerinin toplam trafiğe göre azalan şekilde sıralanması\n",
    "peak_hours = hourly_traffic.sort_values(by='TOTAL_TRAFFIC', ascending=False)\n",
    "\n",
    "# En yoğun trafik saatlerinin görüntülenmesi\n",
    "print(peak_hours)"
   ]
  },
  {
   "cell_type": "code",
   "execution_count": null,
   "id": "80b3c9f7",
   "metadata": {},
   "outputs": [],
   "source": []
  }
 ],
 "metadata": {
  "kernelspec": {
   "display_name": "Python 3",
   "language": "python",
   "name": "python3"
  },
  "language_info": {
   "codemirror_mode": {
    "name": "ipython",
    "version": 3
   },
   "file_extension": ".py",
   "mimetype": "text/x-python",
   "name": "python",
   "nbconvert_exporter": "python",
   "pygments_lexer": "ipython3",
   "version": "3.8.8"
  }
 },
 "nbformat": 4,
 "nbformat_minor": 5
}
